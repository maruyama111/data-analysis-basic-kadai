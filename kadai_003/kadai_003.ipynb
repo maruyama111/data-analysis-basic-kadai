{
  "nbformat": 4,
  "nbformat_minor": 0,
  "metadata": {
    "colab": {
      "provenance": []
    },
    "kernelspec": {
      "name": "python3",
      "display_name": "Python 3"
    },
    "language_info": {
      "name": "python"
    }
  },
  "cells": [
    {
      "cell_type": "code",
      "execution_count": 11,
      "metadata": {
        "colab": {
          "base_uri": "https://localhost:8080/"
        },
        "id": "bN-hJZiG_C44",
        "outputId": "c332598a-6a3e-48be-e9b3-7a1a52e1cda4"
      },
      "outputs": [
        {
          "output_type": "stream",
          "name": "stdout",
          "text": [
            "行列の積の計算結果は\n",
            "[[ 4  5  6  7]\n",
            " [12 17 22 27]\n",
            " [20 29 38 47]]\n",
            "です。\n",
            "行列の積の最大値は47です。\n"
          ]
        }
      ],
      "source": [
        "import numpy as np\n",
        "A=np.array([[0,1],[2,3],[4,5]])\n",
        "B=np.array([[0,1,2,3],[4,5,6,7]])\n",
        "C=np.dot(A,B)\n",
        "D=C.max()\n",
        "print(f\"行列の積の計算結果は\\n{C}\\nです。\")\n",
        "print(f\"行列の積の最大値は{D}です。\")"
      ]
    }
  ]
}